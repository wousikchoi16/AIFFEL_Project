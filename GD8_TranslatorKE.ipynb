{
 "cells": [
  {
   "cell_type": "markdown",
   "id": "accredited-sessions",
   "metadata": {},
   "source": [
    "## 프로젝트: 한영 번역기 만들기"
   ]
  },
  {
   "cell_type": "markdown",
   "id": "future-electronics",
   "metadata": {},
   "source": [
    "## 프로젝트 설명\n",
    "### Step 1. 데이터 다운로드: korean-english-park.train.tar.gz\n",
    "### Step 2. 데이터 정제\n",
    "- 중복된 데이터를 제거\n",
    "- preprocessing() 함수정의\n",
    "- 타겟 언어 영문에  start토큰과 end토큰을 추가\n",
    "- 한글 토큰화는 KoNLPy의 mecab 클래스를 사용\n",
    "\n",
    "### Step 3. 데이터 토큰화\n",
    "- 단어의 수는 최소 10000이상\n",
    "\n",
    "### Step 4. 모델 설계\n",
    "- 한국어를 영어로 잘 번역해 줄 Attention 기반 Seq2seq 모델을 설계\n",
    "- 모델에 Dropout 모듈을 추가\n",
    "- Embedding Size와 Hidden Size는 실험을 통해 적절한 값 튜닝\n",
    "\n",
    "### Step 5. 훈련하기\n",
    "- attention map 시각화 포함"
   ]
  },
  {
   "cell_type": "markdown",
   "id": "prepared-corruption",
   "metadata": {},
   "source": [
    "## 프로젝트 평가\n",
    "1. 번역기 모델 학습에 필요한 텍스트 데이터 전처리가 한국어 포함하여 잘 이루어졌다.\n",
    "- 구두점, 대소문자, 띄어쓰기, 한글 형태소분석 등 번역기 모델에 요구되는 전처리가 정상적으로 진행되었다.\n",
    "2. Attentional Seq2seq 모델이 정상적으로 구동된다.\n",
    "- seq2seq 모델 훈련 과정에서 training loss가 안정적으로 떨어지면서 학습이 진행됨이 확인되었다.\n",
    "3. 테스트 결과 의미가 통하는 수준의 번역문이 생성되었다.\n",
    "- 테스트용 디코더 모델이 정상적으로 만들어져서, 정답과 어느 정도 유사한 영어 번역이 진행됨을 확인하였다."
   ]
  },
  {
   "cell_type": "markdown",
   "id": "sharp-organizer",
   "metadata": {},
   "source": [
    "## Step 1. 데이터 다운로드"
   ]
  },
  {
   "cell_type": "code",
   "execution_count": 1,
   "id": "hawaiian-glass",
   "metadata": {},
   "outputs": [
    {
     "name": "stdout",
     "output_type": "stream",
     "text": [
      "2.4.1\n"
     ]
    }
   ],
   "source": [
    "import tensorflow as tf\n",
    "import numpy as np\n",
    "from sklearn.model_selection import train_test_split\n",
    "import matplotlib.ticker as ticker\n",
    "import matplotlib.pyplot as plt\n",
    "import time\n",
    "import re\n",
    "import os\n",
    "import io\n",
    "import random\n",
    "print(tf.__version__)"
   ]
  },
  {
   "cell_type": "code",
   "execution_count": 2,
   "id": "referenced-garlic",
   "metadata": {},
   "outputs": [],
   "source": [
    "# 데이터 다운로드주소 \n",
    "# https://github.com/jungyeul/korean-parallel-corpora/tree/master/korean-english-news-v1"
   ]
  },
  {
   "cell_type": "code",
   "execution_count": 3,
   "id": "broad-trade",
   "metadata": {},
   "outputs": [
    {
     "name": "stdout",
     "output_type": "stream",
     "text": [
      "/aiffel/aiffel/lms_project_dataset/GD8\n"
     ]
    }
   ],
   "source": [
    "#데이터불러오기 \n",
    "file_path = os.getenv('HOME')+'/aiffel/lms_project_dataset/GD8'\n",
    "print(file_path)"
   ]
  },
  {
   "cell_type": "code",
   "execution_count": 4,
   "id": "aware-mineral",
   "metadata": {},
   "outputs": [],
   "source": [
    "def load_file(file_name):\n",
    "    with open(file_path+'/{}'.format(file_name), \"r\") as f:\n",
    "        raw = f.read().splitlines()\n",
    "    print(\"Data Size:\", len(raw))\n",
    "    print(\"Example:\")\n",
    "    for sen in raw[0:100][::20]: \n",
    "        print(\">>\", sen)\n",
    "    return raw"
   ]
  },
  {
   "cell_type": "code",
   "execution_count": 5,
   "id": "rising-aggregate",
   "metadata": {},
   "outputs": [
    {
     "name": "stdout",
     "output_type": "stream",
     "text": [
      "Data Size: 94123\n",
      "Example:\n",
      ">> 개인용 컴퓨터 사용의 상당 부분은 \"이것보다 뛰어날 수 있느냐?\"\n",
      ">> 북한의 핵무기 계획을 포기하도록 하려는 압력이 거세지고 있는 가운데, 일본과 북한의 외교관들이 외교 관계를 정상화하려는 회담을 재개했다.\n",
      ">> \"경호 로보트가 침입자나 화재를 탐지하기 위해서 개인적으로, 그리고 전문적으로 사용되고 있습니다.\"\n",
      ">> 수자원부 당국은 논란이 되고 있고, 막대한 비용이 드는 이 사업에 대해 내년에 건설을 시작할 계획이다.\n",
      ">> 또한 근력 운동은 활발하게 걷는 것이나 최소한 20분 동안 뛰는 것과 같은 유산소 활동에서 얻는 운동 효과를 심장과 폐에 주지 않기 때문에, 연구학자들은 근력 운동이 심장에 큰 영향을 미치는지 여부에 대해 논쟁을 해왔다.\n",
      "Data Size: 1000\n",
      "Example:\n",
      ">> 세계 에서 가장 강력한 수퍼컴퓨터를 1년 동안이나 독점해 오던 정부의 연구학자들이 이 1억1천만 달러 짜리 경이로운 설비를 공개하며, 이것이 핵전쟁으로부터 세계를 구하는데 도움이 될지도 모른다고 말했다.\n",
      ">> 무기 사찰관들의 복귀에 대하여 이라크 측의 한 관리가 \"유익하고 효과적인\" 논의였다고 말한 회합에서 유엔 무기 사찰단장이 이라크 대표단을 만났다.\n",
      ">> 하드웨어를 구입하는 비용의 문제가 커다란 장애입니다.\n",
      ">> 토의에 참가한 대부분의 사람들은 정부가 통신 내용을 도청할 수 있는 권리를 보유해야 할 필요성이 있는 합법적인 부분도 있다는 데에 동의를 한다.\n",
      ">> 그는 눈에 띄지 않게 행동하는 것으로 알려져있다. 그는 영국 시사잡지 타임즈에서 “파티에 잘 참석하지 않는다”며 자신의 생활에 대한 날조된 이야기를 즐기고 있다.\n",
      "Data Size: 2000\n",
      "Example:\n",
      ">> 토론에 참여한 사람들은 법 집행과 국가 안전보장에 대한 우려를 표명해야 할 필요성을 진지하게 받아 들이고 있습니다.\n",
      ">> 비록 그 위협(의 가능성)은 적지만, 그 잠재적인 영향력은 가히 파괴적인 것이다.\n",
      ">> 한국은 세계 에서 네번째로 원유를 많이 수입하는 나라이며, 전적으로 원유 수입에 의존하고 있다.\n",
      ">> 불과 1,379년 전이다.\n",
      ">> 대신, 그들은 \"안정\"이라는 면에서 서방 세계와 똑같은 이해 관계를 갖고 있는 각 지역의 소수 엘리트를 대표하고 있다.\n",
      "total data size: 97123\n"
     ]
    }
   ],
   "source": [
    "raw_kor = load_file('korean-english-park.train.ko')\n",
    "raw_kor += load_file('korean-english-park.dev.ko')\n",
    "raw_kor += load_file('korean-english-park.test.ko')\n",
    "print('total data size:', len(raw_kor))"
   ]
  },
  {
   "cell_type": "code",
   "execution_count": 6,
   "id": "angry-principal",
   "metadata": {},
   "outputs": [
    {
     "name": "stdout",
     "output_type": "stream",
     "text": [
      "Data Size: 94123\n",
      "Example:\n",
      ">> Much of personal computing is about \"can you top this?\"\n",
      ">> Amid mounting pressure on North Korea to abandon its nuclear weapons program Japanese and North Korean diplomats have resumed talks on normalizing diplomatic relations.\n",
      ">> “Guard robots are used privately and professionally to detect intruders or fire,” Karlsson said.\n",
      ">> Authorities from the Water Resources Ministry plan to begin construction next year on the controversial and hugely expensive project.\n",
      ">> Researchers also have debated whether weight-training has a big impact on the heart, since it does not give the heart and lungs the kind of workout they get from aerobic activities such as brisk walking or running for at least 20 minutes.\n",
      "Data Size: 1000\n",
      "Example:\n",
      ">> After keeping the world's most powerful supercomputer to themselves for a year, government researchers showed off the $110 million wonder and said it might help save the world from nuclear war.\n",
      ">> The head of the U.N. weapons inspection team met with an Iraqi delegation in what a Baghdad official called \"useful and fruitful\" discussions on the return of weapons inspectors.\n",
      ">> \"The issue of it just being a hardware expense is a serious impediment.\n",
      ">> Most of the people involved in the discussion agree that there is a legitimate area in which the government needs to retain the right to intercept communications.\n",
      ">> He's been known to keep a low profile \"You will never see me at a party,\" he told the Times of London and delights in concocting stories about his life.\n",
      "Data Size: 2000\n",
      "Example:\n",
      ">> Those involved in the discussions do take seriously the need to address concerns of law enforcement and national security.\n",
      ">> Even though the threat is small, the potential effects are devastating.\n",
      ">> South Korea is the world's fourth largest oil importer and wholly depends on imports of crude.\n",
      ">> That is only 1,379 years ago.\n",
      ">> Instead, they represent a small elite in each place that has a common interest with the West in “stability.”\n",
      "total data size: 97123\n"
     ]
    }
   ],
   "source": [
    "raw_en = load_file('korean-english-park.train.en')\n",
    "raw_en += load_file('korean-english-park.dev.en')\n",
    "raw_en += load_file('korean-english-park.test.en')\n",
    "print('total data size:', len(raw_en))"
   ]
  },
  {
   "cell_type": "code",
   "execution_count": 7,
   "id": "stopped-atlanta",
   "metadata": {},
   "outputs": [
    {
     "name": "stdout",
     "output_type": "stream",
     "text": [
      "korean data size: 97123\n",
      "english data size: 97123\n"
     ]
    }
   ],
   "source": [
    "print('korean data size:', len(raw_kor))\n",
    "print('english data size:', len(raw_en))"
   ]
  },
  {
   "cell_type": "markdown",
   "id": "lonely-ultimate",
   "metadata": {},
   "source": [
    "## Step 2. 데이터 정제"
   ]
  },
  {
   "cell_type": "code",
   "execution_count": 8,
   "id": "mineral-orange",
   "metadata": {},
   "outputs": [
    {
     "name": "stdout",
     "output_type": "stream",
     "text": [
      "186 Amazon.com Amazon.com\n",
      "1067 When times When times\n",
      "1564 Times Mirr Times Mirr\n",
      "1656 Compaq, Ap Compaq, Ap\n",
      "2120 ABC, NBC,  ABC, NBC, \n",
      "3843 NTT DoCoMo NTT DoCoMo\n",
      "4528 Federal Co Federal Co\n",
      "5101 Starbuck's Starbuck's\n",
      "5653 Cox Commun Cox Commun\n",
      "8549 Tools for  Tools for \n",
      "9248 The Musica The Musica\n",
      "9425 I Feel Lik I Feel Lik\n",
      "10673 Celebrity  Celebrity \n",
      "11073 Govsec 200 Govsec 200\n",
      "11466 The True C The True C\n",
      "12634 ##http://a ##http://a\n",
      "13110 The Transf The Transf\n",
      "13116 Nazi Germa Nazi Germa\n",
      "13760 The King A The King A\n",
      "13854 Tips on Ge Tips on Ge\n",
      "14145 Fight the  Fight the \n",
      "14338 Islam, Dem Islam, Dem\n",
      "17460 ##http://a ##http://a\n",
      "21075 866/973-74 866/973-74\n",
      "21103 The Demon  The Demon \n",
      "22533 The Comple The Comple\n",
      "22534 At World's At World's\n",
      "22959 A First Lo A First Lo\n",
      "25372 Rocks the  Rocks the \n",
      "27568 How a Loui How a Loui\n",
      "28080 The Autobi The Autobi\n",
      "28465 A Speech t A Speech t\n",
      "28911 An Exhibit An Exhibit\n",
      "30957 tapestries tapestries\n",
      "30967 ##http://a ##http://a\n",
      "33385 Paul Inter Paul Inter\n",
      "34115 ##http://a ##http://a\n",
      "34759 The Legend The Legend\n",
      "37255 Coming to  Coming to \n",
      "37863 ##http://a ##http://a\n",
      "37996 ##http://a ##http://a\n",
      "38044 Things You Things You\n",
      "38300 ##http://a ##http://a\n",
      "45315 ##http://a ##http://a\n",
      "46435 HotEnough. HotEnough.\n",
      "46609 ##http://a ##http://a\n",
      "47937 ##http://a ##http://a\n",
      "48646 The Smarte The Smarte\n",
      "51780 Postal Evi Postal Evi\n",
      "51791 Postal Evi Postal Evi\n",
      "53598 The Finer  The Finer \n",
      "53610 The Finer  The Finer \n",
      "54724 CAPE TOWN, CAPE TOWN,\n",
      "61376 Escape 2 A Escape 2 A\n",
      "62078 DUBAI, Uni DUBAI, Uni\n",
      "64628 Wanted and Wanted and\n",
      "64642 Wanted and Wanted and\n",
      "67462 A Journey  A Journey \n",
      "67474 A Journey  A Journey \n",
      "69032 VATICAN CI VATICAN CI\n",
      "73023 Workers at Workers at\n",
      "73073 An Afghan  An Afghan \n",
      "73534 The Pope h The Pope h\n",
      "73591 Foreign mi Foreign mi\n",
      "73596 Prosecutor Prosecutor\n",
      "73734 Pope Bened Pope Bened\n",
      "73918 East Timor East Timor\n",
      "74062 The Austra The Austra\n",
      "74250 Australian Australian\n",
      "74991 The ruling The ruling\n",
      "75202 -North Kor -North Kor\n",
      "75424 Delegates  Delegates \n",
      "75576 The Defens The Defens\n",
      "75623 Prosecutor Prosecutor\n",
      "75715 Australian Australian\n",
      "75742 Israeli Pr Israeli Pr\n",
      "75794 Kookmin Ba Kookmin Ba\n",
      "75853 Palestinia Palestinia\n",
      "75984 World Tour World Tour\n",
      "76249 Attorney G Attorney G\n",
      "76277 George Jon George Jon\n",
      "76314 Foreign in Foreign in\n",
      "76495 The US Hou The US Hou\n",
      "76789 Stocks ope Stocks ope\n",
      "77150 Thailand’s Thailand’s\n",
      "77236 The Japane The Japane\n",
      "77265 Two more b Two more b\n",
      "77281 Former Pri Former Pri\n",
      "77329 Kim Young- Kim Young-\n",
      "77357 The lower  The lower \n",
      "77378 Satellite  Satellite \n",
      "77547 Gaza City  Gaza City \n",
      "77640 Wall Stree Wall Stree\n",
      "77663 East Timor East Timor\n",
      "77727 Foreign Mi Foreign Mi\n",
      "77741 Sloppy eng Sloppy eng\n",
      "77808 Five North Five North\n",
      "77852 Former Pre Former Pre\n",
      "78359 Air Force  Air Force \n",
      "78385 The govern The govern\n",
      "78457 South Kore South Kore\n",
      "78628 The UN rep The UN rep\n",
      "78673 President  President \n",
      "78688 A goth who A goth who\n",
      "78925 Palestinia Palestinia\n",
      "79067 President  President \n",
      "79088 Broadcast  Broadcast \n",
      "79235 A 16-year- A 16-year-\n",
      "79288 Palestinia Palestinia\n",
      "79310 The bodies The bodies\n",
      "79440 The Consti The Consti\n",
      "79603 Ten Burmes Ten Burmes\n",
      "79824 Record oil Record oil\n",
      "79867 restructur restructur\n",
      "79939 Saddam Hus Saddam Hus\n",
      "80002 Industrial Industrial\n",
      "80152 Salvadoran Salvadoran\n",
      "80165 Iran has s Iran has s\n",
      "80246 US ambassa US ambassa\n",
      "80272 Loud lamen Loud lamen\n",
      "80284 Former Pre Former Pre\n",
      "80385 George W.  George W. \n",
      "80493 Speaker Ki Speaker Ki\n",
      "80724 President  President \n",
      "80732 The Nigeri The Nigeri\n",
      "80893 Russia and Russia and\n",
      "80946 White Hous White Hous\n",
      "81376 The govern The govern\n",
      "81399 New York G New York G\n",
      "81498 Vice Forei Vice Forei\n",
      "81726 The US Mar The US Mar\n",
      "81809 Hugh Jackm Hugh Jackm\n",
      "81901 The first  The first \n",
      "81970 US Secreta US Secreta\n",
      "81975 North Kore North Kore\n",
      "81991 Foreign Mi Foreign Mi\n",
      "82044 A lawmaker A lawmaker\n",
      "82054 President  President \n",
      "82131 North and  North and \n",
      "82192 Defense Se Defense Se\n",
      "82200 Defense Se Defense Se\n",
      "82419 The govern The govern\n",
      "82423 Inspectors Inspectors\n",
      "82681 Former Pre Former Pre\n",
      "83027 Portable I Portable I\n",
      "83133 The govern The govern\n",
      "83241 An Islamic An Islamic\n",
      "83650 A retired  A retired \n",
      "83708 Former US  Former US \n",
      "83745 Defense Mi Defense Mi\n",
      "83799 The union  The union \n",
      "83920 Horst Koeh Horst Koeh\n",
      "84074 Justice Mi Justice Mi\n",
      "84116 The first  The first \n",
      "84164 North Kore North Kore\n",
      "84172 The Bush W The Bush W\n",
      "84442 Korean ele Korean ele\n",
      "84604 The ruling The ruling\n",
      "84634 South Kore South Kore\n",
      "84799 UK Parliam UK Parliam\n",
      "84831 Prime Mini Prime Mini\n",
      "85169 Shin Ki-na Shin Ki-na\n",
      "85309 Senate Maj Senate Maj\n",
      "85358 The Italia The Italia\n",
      "85366 Prosecutor Prosecutor\n",
      "85419 jobless cl jobless cl\n",
      "85454 Korea's qu Korea's qu\n",
      "85905 A Chinese  A Chinese \n",
      "85928 Saudi Arab Saudi Arab\n",
      "86047 Libya agre Libya agre\n",
      "86072 Tebow's th Tebow's th\n",
      "86075 South Kore South Kore\n",
      "86367 Foreigners Foreigners\n",
      "86586 The UN sec The UN sec\n",
      "86768 Ayman al-Z Ayman al-Z\n",
      "86865 The govern The govern\n",
      "86961 Prime Mini Prime Mini\n",
      "87288 Former wor Former wor\n",
      "87491 President  President \n",
      "87506 Foreign ca Foreign ca\n",
      "87658 The Recrui The Recrui\n",
      "87750 Illinois G Illinois G\n",
      "87762 Uri Party  Uri Party \n",
      "87928 The number The number\n",
      "87972 Civic grou Civic grou\n",
      "88029 Five Korea Five Korea\n",
      "88034 Bush admin Bush admin\n",
      "88174 Thousands  Thousands \n",
      "88283 President  President \n",
      "88419 The World  The World \n",
      "88520 The most w The most w\n",
      "88526 Canada's P Canada's P\n",
      "88617 Public hea Public hea\n",
      "88664 A governme A governme\n",
      "88810 Kia Motors Kia Motors\n",
      "88925 Korea Exch Korea Exch\n",
      "88940 Pornograph Pornograph\n",
      "89079 North Kore North Kore\n",
      "89089 Chinese es Chinese es\n",
      "89172 Two Austra Two Austra\n",
      "89326 Prosecutor Prosecutor\n",
      "89487 South Kore South Kore\n",
      "89735 House Spea House Spea\n",
      "89805 “Diane Fan “Diane Fan\n",
      "89857 Pope John  Pope John \n",
      "89926 The Red Ri The Red Ri\n",
      "89946 President  President \n",
      "89977 British re British re\n",
      "90146 Saudi Arab Saudi Arab\n",
      "90326 Six elepha Six elepha\n",
      "90380 Gay couple Gay couple\n",
      "90465 The world  The world \n",
      "90631 Lawmakers  Lawmakers \n",
      "90652 Vice Presi Vice Presi\n",
      "90772 Iraq’s Gov Iraq’s Gov\n",
      "90801 Korea will Korea will\n",
      "91050 California California\n",
      "91063 Prime Mini Prime Mini\n",
      "91124 Foreign Mi Foreign Mi\n",
      "91149 The govern The govern\n",
      "91279 The Korea  The Korea \n",
      "91456 More than  More than \n",
      "91480 Secretary  Secretary \n",
      "91520 Australia' Australia'\n",
      "91623 Australia  Australia \n",
      "91826 The Lebane The Lebane\n",
      "91849 President  President \n",
      "91872 World Heal World Heal\n",
      "91913 Insurgents Insurgents\n",
      "92026 An elected An elected\n",
      "92053 Opposition Opposition\n",
      "92068 US Marine  US Marine \n",
      "92104 Daylight T Daylight T\n",
      "92151 A Senate c A Senate c\n",
      "92355 New Congre New Congre\n",
      "92425 A Japanese A Japanese\n",
      "92454 Three Japa Three Japa\n",
      "92473 North Kore North Kore\n",
      "92502 British In British In\n",
      "92510 Record lev Record lev\n",
      "92565 The Korean The Korean\n",
      "92699 The first  The first \n",
      "92730 Representa Representa\n",
      "92788 Louis city Louis city\n",
      "92820 Korea Expr Korea Expr\n",
      "92854 A cloning  A cloning \n",
      "92869 Secretary  Secretary \n",
      "92874 Taiwan los Taiwan los\n",
      "93095 A suicide  A suicide \n",
      "93357 South Kore South Kore\n",
      "93419 The South  The South \n",
      "93475 The milita The milita\n",
      "93536 President  President \n",
      "93538 Angered at Angered at\n",
      "93622 Police are Police are\n",
      "93637 Diplomatic Diplomatic\n",
      "93845 US Preside US Preside\n",
      "93975 Patrick's  Patrick's \n",
      "93982 Patrick's  Patrick's \n",
      "94039 Former Pre Former Pre\n",
      "94130 ASCI White ASCI White\n",
      "94686 HONG KONG  HONG KONG \n",
      "95014 Japanese N Japanese N\n",
      "96925 Europe is  Europe is \n",
      "96966 Hwang Woo- Hwang Woo-\n",
      "96858 96858\n"
     ]
    }
   ],
   "source": [
    "# 중복제거1: 한국말 자리에 영어문장이 있는 경우 제거\n",
    "raw_kor_ = []\n",
    "raw_en_ = []\n",
    "for i in range(len(raw_kor)):# \n",
    "    if raw_kor[i][:10]==raw_en[i][:10]:\n",
    "        print(i, raw_kor[i][:10],raw_en[i][:10])\n",
    "    else:\n",
    "        raw_kor_.append(raw_kor[i])\n",
    "        raw_en_.append(raw_en[i])\n",
    "raw_kor=raw_kor_\n",
    "raw_en=raw_en_\n",
    "print(len(raw_kor), len(raw_en))"
   ]
  },
  {
   "cell_type": "code",
   "execution_count": 9,
   "id": "coordinated-collapse",
   "metadata": {},
   "outputs": [
    {
     "data": {
      "text/plain": [
       "<zip at 0x7f45d33e9d70>"
      ]
     },
     "execution_count": 9,
     "metadata": {},
     "output_type": "execute_result"
    }
   ],
   "source": [
    "# 중복된 데이터를 제거2\n",
    "raw = zip(raw_kor, raw_en)\n",
    "raw"
   ]
  },
  {
   "cell_type": "code",
   "execution_count": 10,
   "id": "illegal-tuning",
   "metadata": {},
   "outputs": [
    {
     "data": {
      "text/plain": [
       "81697"
      ]
     },
     "execution_count": 10,
     "metadata": {},
     "output_type": "execute_result"
    }
   ],
   "source": [
    "set_raw = set(raw)\n",
    "len(set_raw)"
   ]
  },
  {
   "cell_type": "code",
   "execution_count": 11,
   "id": "color-spread",
   "metadata": {},
   "outputs": [
    {
     "data": {
      "text/plain": [
       "81697"
      ]
     },
     "execution_count": 11,
     "metadata": {},
     "output_type": "execute_result"
    }
   ],
   "source": [
    "len(set_raw)"
   ]
  },
  {
   "cell_type": "code",
   "execution_count": 12,
   "id": "acute-occurrence",
   "metadata": {},
   "outputs": [],
   "source": [
    "cleaned_corpus_kor, cleaned_corpus_eng = zip(*set_raw)"
   ]
  },
  {
   "cell_type": "code",
   "execution_count": 13,
   "id": "fifty-franchise",
   "metadata": {},
   "outputs": [
    {
     "name": "stdout",
     "output_type": "stream",
     "text": [
      "korean data size: 81697\n",
      "english data size: 81697\n"
     ]
    }
   ],
   "source": [
    "print('korean data size:', len(cleaned_corpus_kor))\n",
    "print('english data size:', len(cleaned_corpus_eng))"
   ]
  },
  {
   "cell_type": "code",
   "execution_count": 14,
   "id": "popular-verse",
   "metadata": {},
   "outputs": [
    {
     "data": {
      "text/plain": [
       "'그러나 시간이 지나면 중대한 이해관계에 대한 결정, 끊임없는 비난, 동요하는 여론이 대통령을 서서히 무너뜨린다.'"
      ]
     },
     "execution_count": 14,
     "metadata": {},
     "output_type": "execute_result"
    }
   ],
   "source": [
    "cleaned_corpus_kor[0]"
   ]
  },
  {
   "cell_type": "code",
   "execution_count": 15,
   "id": "horizontal-lambda",
   "metadata": {},
   "outputs": [
    {
     "data": {
      "text/plain": [
       "'But as the years go by, the high-stakes decisions, constant criticisms and the fluctuating public opinion chip away at the president.'"
      ]
     },
     "execution_count": 15,
     "metadata": {},
     "output_type": "execute_result"
    }
   ],
   "source": [
    "cleaned_corpus_eng[0]"
   ]
  },
  {
   "cell_type": "code",
   "execution_count": 16,
   "id": "powerful-stockholm",
   "metadata": {},
   "outputs": [],
   "source": [
    "# 한국어전처리: preprocessing() 함수정의\n",
    "def preprocess_sentence(sentence, s_token=False, e_token=False):\n",
    "    sentence = sentence.lower().strip() # 소문자 변환\n",
    "    sentence = re.sub(r\"([?.!,])\", r\" \\1 \", sentence) \n",
    "    sentence = re.sub(r'[\" \"]+', \" \", sentence)\n",
    "    sentence = re.sub(r\"[^a-zA-Z?.!가-힣ㄱ-ㅎㅏ-ㅣ]+\", \" \", sentence)\n",
    "    sentence = sentence.strip()\n",
    "    # 타겟 언어 영문에 start토큰과 end토큰을 추가\n",
    "    if s_token:\n",
    "        sentence = '<start> ' + sentence\n",
    "    if e_token:\n",
    "        sentence += ' <end>'\n",
    "    return sentence"
   ]
  },
  {
   "cell_type": "code",
   "execution_count": 17,
   "id": "dimensional-privacy",
   "metadata": {},
   "outputs": [
    {
     "name": "stdout",
     "output_type": "stream",
     "text": [
      "kor: 그러나 시간이 지나면 중대한 이해관계에 대한 결정, 끊임없는 비난, 동요하는 여론이 대통령을 서서히 무너뜨린다.\n",
      "eng: But as the years go by, the high-stakes decisions, constant criticisms and the fluctuating public opinion chip away at the president.\n"
     ]
    }
   ],
   "source": [
    "for kor, eng in zip(cleaned_corpus_kor, cleaned_corpus_eng):\n",
    "    print(\"kor:\", kor)\n",
    "    print(\"eng:\", eng)\n",
    "    break"
   ]
  },
  {
   "cell_type": "code",
   "execution_count": 18,
   "id": "aware-belle",
   "metadata": {},
   "outputs": [
    {
     "name": "stdout",
     "output_type": "stream",
     "text": [
      "korean data size: 17026\n",
      "english data size: 17026\n",
      "Korean: 이에앞서 상원은 일 찬성 반대 로 가결처리했다 .\n",
      "English: <start> the senate approved the measure late thursday by and the white house said the president would sign the bill . <end>\n"
     ]
    }
   ],
   "source": [
    "# 토큰길이 40이하인 데이터 \n",
    "enc_corpus = []\n",
    "dec_corpus = []\n",
    "\n",
    "# num_examples = 30000\n",
    "cnt=0\n",
    "for kor, eng in zip(cleaned_corpus_kor, cleaned_corpus_eng):\n",
    "    temp_kor = preprocess_sentence(kor)\n",
    "    temp_eng = preprocess_sentence(eng, s_token=True, e_token=True)\n",
    "\n",
    "    if len(temp_kor) <= 40:\n",
    "        enc_corpus.append(temp_kor)\n",
    "        dec_corpus.append(temp_eng)\n",
    "    \n",
    "print('korean data size:', len(enc_corpus))\n",
    "print('english data size:', len(dec_corpus))\n",
    "print(\"Korean:\", enc_corpus[100])   \n",
    "print(\"English:\", dec_corpus[100])"
   ]
  },
  {
   "cell_type": "code",
   "execution_count": 19,
   "id": "genetic-equivalent",
   "metadata": {},
   "outputs": [
    {
     "name": "stdout",
     "output_type": "stream",
     "text": [
      "Korean: 만약 우리가 우리의 입지와 브랜드명을 확립하지 못하면 우리는 죽습니다 .\n",
      "English: <start> if we can t establish presence and a brand name we ll die . <end>\n"
     ]
    }
   ],
   "source": [
    "print(\"Korean:\", enc_corpus[0])   \n",
    "print(\"English:\", dec_corpus[0])"
   ]
  },
  {
   "cell_type": "code",
   "execution_count": 20,
   "id": "parallel-calculation",
   "metadata": {},
   "outputs": [
    {
     "name": "stdout",
     "output_type": "stream",
     "text": [
      "Korean: 만약 우리가 우리의 입지와 브랜드명을 확립하지 못하면 우리는 죽습니다.\"\n",
      "English: If we can't establish presence and a brand name, we'll die.\"\n"
     ]
    }
   ],
   "source": [
    "print(\"Korean:\", cleaned_corpus_kor[10])   \n",
    "print(\"English:\", cleaned_corpus_eng[10])"
   ]
  },
  {
   "cell_type": "markdown",
   "id": "young-husband",
   "metadata": {},
   "source": [
    "## Step 3. 데이터 토큰화\n",
    "- 단어의 수는 최소 10000이상"
   ]
  },
  {
   "cell_type": "code",
   "execution_count": 21,
   "id": "initial-reading",
   "metadata": {},
   "outputs": [],
   "source": [
    "# 한글 토큰화는 KoNLPy의 mecab 클래스를 사용\n",
    "from konlpy.tag import Mecab\n",
    "\n",
    "vocab_size = 50000\n",
    "def tokenize(corpus, kor=False, eng=True):\n",
    "    if kor:\n",
    "        mecab = Mecab()\n",
    "        morph = [\" \".join(mecab.morphs(sen)) for sen in corpus]\n",
    "        tokenizer = tf.keras.preprocessing.text.Tokenizer(filters='',\n",
    "                                                         num_words=vocab_size)\n",
    "        tokenizer.fit_on_texts(morph)\n",
    "\n",
    "        tensor = tokenizer.texts_to_sequences(morph)\n",
    "        tensor = tf.keras.preprocessing.sequence.pad_sequences(tensor, padding='post')\n",
    "\n",
    "        \n",
    "    if eng:\n",
    "        tokenizer = tf.keras.preprocessing.text.Tokenizer(filters='',\n",
    "                                                         num_words=vocab_size)\n",
    "        tokenizer.fit_on_texts(corpus)\n",
    "\n",
    "        tensor = tokenizer.texts_to_sequences(corpus)\n",
    "        tensor = tf.keras.preprocessing.sequence.pad_sequences(tensor, padding='post')\n",
    "\n",
    "    return tensor, tokenizer"
   ]
  },
  {
   "cell_type": "code",
   "execution_count": 22,
   "id": "fatty-string",
   "metadata": {},
   "outputs": [
    {
     "name": "stdout",
     "output_type": "stream",
     "text": [
      "Korean Vocab Size: 41749\n",
      "English Vocab Size: 17312\n"
     ]
    }
   ],
   "source": [
    "enc_tensor, enc_tokenizer = tokenize(enc_corpus, kor=True)\n",
    "dec_tensor, dec_tokenizer = tokenize(dec_corpus, eng=True)\n",
    "\n",
    "enc_train, enc_val, dec_train, dec_val = \\\n",
    "train_test_split(enc_tensor, dec_tensor, test_size=0.2)\n",
    "\n",
    "print(\"Korean Vocab Size:\", len(enc_tokenizer.index_word))\n",
    "print(\"English Vocab Size:\", len(dec_tokenizer.index_word))"
   ]
  },
  {
   "cell_type": "markdown",
   "id": "mobile-closure",
   "metadata": {},
   "source": [
    "## Step 4. 모델 설계\n",
    "- 한국어를 영어로 잘 번역해 줄 Attention 기반 Seq2seq 모델을 설계\n",
    "- 모델에 Dropout 모듈을 추가\n",
    "- Embedding Size와 Hidden Size는 실험을 통해 적절한 값 튜닝"
   ]
  },
  {
   "cell_type": "code",
   "execution_count": 23,
   "id": "western-employment",
   "metadata": {},
   "outputs": [],
   "source": [
    "class BahdanauAttention(tf.keras.layers.Layer):\n",
    "    def __init__(self, units):\n",
    "        super(BahdanauAttention, self).__init__()\n",
    "        self.w_dec = tf.keras.layers.Dense(units)\n",
    "        self.w_enc = tf.keras.layers.Dense(units)\n",
    "        self.w_com = tf.keras.layers.Dense(1)\n",
    "    \n",
    "    def call(self, h_enc, h_dec):\n",
    "        # h_enc shape: [batch x length x units]\n",
    "        # h_dec shape: [batch x units]\n",
    "\n",
    "        h_enc = self.w_enc(h_enc)\n",
    "        h_dec = tf.expand_dims(h_dec, 1)\n",
    "        h_dec = self.w_dec(h_dec)\n",
    "\n",
    "        score = self.w_com(tf.nn.tanh(h_dec + h_enc))\n",
    "        \n",
    "        attn = tf.nn.softmax(score, axis=1)\n",
    "\n",
    "        context_vec = attn * h_enc\n",
    "        context_vec = tf.reduce_sum(context_vec, axis=1)\n",
    "\n",
    "        return context_vec, attn"
   ]
  },
  {
   "cell_type": "code",
   "execution_count": 24,
   "id": "legislative-contributor",
   "metadata": {},
   "outputs": [],
   "source": [
    "class Encoder(tf.keras.Model):\n",
    "    def __init__(self, vocab_size, embedding_dim, enc_units):\n",
    "        super(Encoder, self).__init__()\n",
    "\n",
    "        self.enc_units = enc_units\n",
    "        self.embedding = tf.keras.layers.Embedding(vocab_size, embedding_dim)\n",
    "        self.gru = tf.keras.layers.GRU(enc_units,\n",
    "                                       return_sequences=True)\n",
    "\n",
    "    def call(self, x):\n",
    "        out = self.embedding(x)\n",
    "        out = self.gru(out)\n",
    "\n",
    "        return out"
   ]
  },
  {
   "cell_type": "code",
   "execution_count": 25,
   "id": "underlying-walnut",
   "metadata": {},
   "outputs": [],
   "source": [
    "class Decoder(tf.keras.Model):\n",
    "    def __init__(self, vocab_size, embedding_dim, dec_units):\n",
    "        super(Decoder, self).__init__()\n",
    "        self.dec_units = dec_units\n",
    "        self.embedding = tf.keras.layers.Embedding(vocab_size, embedding_dim)\n",
    "        self.gru = tf.keras.layers.GRU(dec_units,\n",
    "                                       return_sequences=True,\n",
    "                                       return_state=True)\n",
    "        self.fc = tf.keras.layers.Dense(vocab_size)\n",
    "\n",
    "        self.attention = BahdanauAttention(self.dec_units)\n",
    "\n",
    "    def call(self, x, h_dec, enc_out):\n",
    "        context_vec, attn = self.attention(enc_out, h_dec)\n",
    "\n",
    "        out = self.embedding(x)\n",
    "        out = tf.concat([tf.expand_dims(context_vec, 1), out], axis=-1)\n",
    "\n",
    "        out, h_dec = self.gru(out)\n",
    "        out = tf.reshape(out, (-1, out.shape[2]))\n",
    "        out = self.fc(out)\n",
    "\n",
    "        return out, h_dec, attn"
   ]
  },
  {
   "cell_type": "code",
   "execution_count": 26,
   "id": "sized-power",
   "metadata": {},
   "outputs": [
    {
     "name": "stdout",
     "output_type": "stream",
     "text": [
      "Encoder Output: (64, 40, 1024)\n",
      "Decoder Output: (64, 17313)\n",
      "Decoder Hidden State: (64, 1024)\n",
      "Attention: (64, 40, 1)\n"
     ]
    }
   ],
   "source": [
    "# 코드를 실행하세요.\n",
    "\n",
    "BATCH_SIZE     = 64\n",
    "SRC_VOCAB_SIZE = len(enc_tokenizer.index_word) + 1 # 예: len(enc_tokenizer.index_word) + 1\n",
    "TGT_VOCAB_SIZE = len(dec_tokenizer.index_word) + 1 # 예: len(dec_tokenizer.index_word) + 1\n",
    "\n",
    "units         = 1024\n",
    "embedding_dim = 512\n",
    "\n",
    "encoder = Encoder(SRC_VOCAB_SIZE, embedding_dim, units)\n",
    "decoder = Decoder(TGT_VOCAB_SIZE, embedding_dim, units)\n",
    "\n",
    "# sample input\n",
    "sequence_len = 40\n",
    "\n",
    "sample_enc = tf.random.uniform((BATCH_SIZE, sequence_len))\n",
    "sample_output = encoder(sample_enc)\n",
    "\n",
    "print ('Encoder Output:', sample_output.shape)\n",
    "\n",
    "sample_state = tf.random.uniform((BATCH_SIZE, units))\n",
    "\n",
    "sample_logits, h_dec, attn = decoder(tf.random.uniform((BATCH_SIZE, 1)),\n",
    "                                     sample_state, sample_output)\n",
    "\n",
    "print ('Decoder Output:', sample_logits.shape)\n",
    "print ('Decoder Hidden State:', h_dec.shape)\n",
    "print ('Attention:', attn.shape)"
   ]
  },
  {
   "cell_type": "code",
   "execution_count": 27,
   "id": "native-douglas",
   "metadata": {},
   "outputs": [],
   "source": [
    "optimizer = tf.keras.optimizers.Adam()\n",
    "loss_object = tf.keras.losses.SparseCategoricalCrossentropy(\n",
    "    from_logits=True, reduction='none')\n",
    "\n",
    "def loss_function(real, pred):\n",
    "    mask = tf.math.logical_not(tf.math.equal(real, 0))\n",
    "    loss = loss_object(real, pred)\n",
    "    \n",
    "    mask = tf.cast(mask, dtype=loss.dtype)\n",
    "    loss *= mask\n",
    "    \n",
    "    return tf.reduce_mean(loss)"
   ]
  },
  {
   "cell_type": "code",
   "execution_count": 28,
   "id": "foster-validity",
   "metadata": {},
   "outputs": [],
   "source": [
    "@tf.function\n",
    "def train_step(src, tgt, encoder, decoder, optimizer, dec_tok):\n",
    "    bsz = src.shape[0]\n",
    "    loss = 0\n",
    "\n",
    "    with tf.GradientTape() as tape:\n",
    "        enc_out = encoder(src)\n",
    "        h_dec = enc_out[:, -1]\n",
    "        \n",
    "        dec_src = tf.expand_dims([dec_tok.word_index['<start>']] * bsz, 1)\n",
    "\n",
    "        for t in range(1, tgt.shape[1]):\n",
    "            pred, h_dec, _ = decoder(dec_src, h_dec, enc_out)\n",
    "\n",
    "            loss += loss_function(tgt[:, t], pred)\n",
    "            dec_src = tf.expand_dims(tgt[:, t], 1)\n",
    "        \n",
    "    batch_loss = (loss / int(tgt.shape[1]))\n",
    "\n",
    "    variables = encoder.trainable_variables + decoder.trainable_variables\n",
    "    gradients = tape.gradient(loss, variables)\n",
    "    optimizer.apply_gradients(zip(gradients, variables))\n",
    "    \n",
    "    return batch_loss"
   ]
  },
  {
   "cell_type": "code",
   "execution_count": 29,
   "id": "lyric-paragraph",
   "metadata": {},
   "outputs": [],
   "source": [
    "# eval_step() 정의하기\n",
    "# train_step() 이후 eval_step() 진행하도록 소스 수정하기\n",
    "# Define eval_step\n",
    "\n",
    "@tf.function\n",
    "def eval_step(src, tgt, encoder, decoder, dec_tok):\n",
    "    bsz = src.shape[0]\n",
    "    loss = 0\n",
    "\n",
    "    enc_out = encoder(src)\n",
    "\n",
    "    h_dec = enc_out[:, -1]\n",
    "\n",
    "    dec_src = tf.expand_dims([dec_tok.word_index['<start>']] * bsz, 1)\n",
    "\n",
    "    for t in range(1, tgt.shape[1]):\n",
    "        pred, h_dec, _ = decoder(dec_src, h_dec, enc_out)\n",
    "\n",
    "        loss += loss_function(tgt[:, t], pred)\n",
    "        dec_src = tf.expand_dims(tgt[:, t], 1)\n",
    "\n",
    "    batch_loss = (loss / int(tgt.shape[1]))\n",
    "\n",
    "    return batch_loss\n"
   ]
  },
  {
   "cell_type": "markdown",
   "id": "solved-suicide",
   "metadata": {},
   "source": [
    "## Step 5. 훈련하기\n",
    "- attention map 시각화 포함"
   ]
  },
  {
   "cell_type": "code",
   "execution_count": 30,
   "id": "alternative-timeline",
   "metadata": {},
   "outputs": [
    {
     "name": "stderr",
     "output_type": "stream",
     "text": [
      "Epoch  1: 100%|██████████| 213/213 [06:52<00:00,  1.94s/it, Loss 1.5495]\n",
      "Test Epoch  1: 100%|██████████| 54/54 [01:13<00:00,  1.37s/it, Test Loss 1.4704]\n",
      "Epoch  2: 100%|██████████| 213/213 [04:41<00:00,  1.32s/it, Loss 1.3327]\n",
      "Test Epoch  2: 100%|██████████| 54/54 [00:25<00:00,  2.11it/s, Test Loss 1.3119]\n",
      "Epoch  3: 100%|██████████| 213/213 [04:41<00:00,  1.32s/it, Loss 1.2238]\n",
      "Test Epoch  3: 100%|██████████| 54/54 [00:25<00:00,  2.11it/s, Test Loss 1.2762]\n",
      "Epoch  4: 100%|██████████| 213/213 [04:41<00:00,  1.32s/it, Loss 1.1437]\n",
      "Test Epoch  4: 100%|██████████| 54/54 [00:25<00:00,  2.11it/s, Test Loss 1.2574]\n",
      "Epoch  5: 100%|██████████| 213/213 [04:42<00:00,  1.33s/it, Loss 1.0641]\n",
      "Test Epoch  5: 100%|██████████| 54/54 [00:25<00:00,  2.10it/s, Test Loss 1.2600]\n",
      "Epoch  6: 100%|██████████| 213/213 [04:42<00:00,  1.32s/it, Loss 0.9803]\n",
      "Test Epoch  6: 100%|██████████| 54/54 [00:25<00:00,  2.10it/s, Test Loss 1.2722]\n",
      "Epoch  7: 100%|██████████| 213/213 [04:42<00:00,  1.32s/it, Loss 0.8897]\n",
      "Test Epoch  7: 100%|██████████| 54/54 [00:25<00:00,  2.10it/s, Test Loss 1.3029]\n",
      "Epoch  8: 100%|██████████| 213/213 [04:41<00:00,  1.32s/it, Loss 0.7949]\n",
      "Test Epoch  8: 100%|██████████| 54/54 [00:25<00:00,  2.11it/s, Test Loss 1.3339]\n",
      "Epoch  9: 100%|██████████| 213/213 [04:42<00:00,  1.32s/it, Loss 0.6959]\n",
      "Test Epoch  9: 100%|██████████| 54/54 [00:25<00:00,  2.10it/s, Test Loss 1.3824]\n",
      "Epoch 10: 100%|██████████| 213/213 [04:42<00:00,  1.33s/it, Loss 0.6009]\n",
      "Test Epoch 10: 100%|██████████| 54/54 [00:25<00:00,  2.11it/s, Test Loss 1.4267]\n",
      "Epoch 11: 100%|██████████| 213/213 [04:42<00:00,  1.33s/it, Loss 0.5130]\n",
      "Test Epoch 11: 100%|██████████| 54/54 [00:25<00:00,  2.10it/s, Test Loss 1.4776]\n",
      "Epoch 12: 100%|██████████| 213/213 [04:42<00:00,  1.32s/it, Loss 0.4324]\n",
      "Test Epoch 12: 100%|██████████| 54/54 [00:25<00:00,  2.10it/s, Test Loss 1.5297]\n",
      "Epoch 13: 100%|██████████| 213/213 [04:42<00:00,  1.32s/it, Loss 0.3629]\n",
      "Test Epoch 13: 100%|██████████| 54/54 [00:25<00:00,  2.10it/s, Test Loss 1.5706]\n",
      "Epoch 14: 100%|██████████| 213/213 [04:42<00:00,  1.32s/it, Loss 0.3033]\n",
      "Test Epoch 14: 100%|██████████| 54/54 [00:25<00:00,  2.10it/s, Test Loss 1.6206]\n",
      "Epoch 15: 100%|██████████| 213/213 [04:42<00:00,  1.33s/it, Loss 0.2527]\n",
      "Test Epoch 15: 100%|██████████| 54/54 [00:25<00:00,  2.11it/s, Test Loss 1.6678]\n",
      "Epoch 16: 100%|██████████| 213/213 [04:42<00:00,  1.33s/it, Loss 0.2112]\n",
      "Test Epoch 16: 100%|██████████| 54/54 [00:25<00:00,  2.11it/s, Test Loss 1.7136]\n",
      "Epoch 17: 100%|██████████| 213/213 [04:42<00:00,  1.33s/it, Loss 0.1777]\n",
      "Test Epoch 17: 100%|██████████| 54/54 [00:25<00:00,  2.10it/s, Test Loss 1.7491]\n",
      "Epoch 18: 100%|██████████| 213/213 [04:42<00:00,  1.32s/it, Loss 0.1505]\n",
      "Test Epoch 18: 100%|██████████| 54/54 [00:25<00:00,  2.10it/s, Test Loss 1.7868]\n",
      "Epoch 19: 100%|██████████| 213/213 [04:43<00:00,  1.33s/it, Loss 0.1277]\n",
      "Test Epoch 19: 100%|██████████| 54/54 [00:26<00:00,  2.05it/s, Test Loss 1.8324]\n",
      "Epoch 20: 100%|██████████| 213/213 [04:50<00:00,  1.36s/it, Loss 0.1091]\n",
      "Test Epoch 20: 100%|██████████| 54/54 [00:26<00:00,  2.06it/s, Test Loss 1.8641]\n",
      "Epoch 21: 100%|██████████| 213/213 [04:50<00:00,  1.36s/it, Loss 0.0935]\n",
      "Test Epoch 21: 100%|██████████| 54/54 [00:26<00:00,  2.06it/s, Test Loss 1.8994]\n",
      "Epoch 22: 100%|██████████| 213/213 [04:50<00:00,  1.36s/it, Loss 0.0803]\n",
      "Test Epoch 22: 100%|██████████| 54/54 [00:25<00:00,  2.09it/s, Test Loss 1.9311]\n",
      "Epoch 23: 100%|██████████| 213/213 [04:41<00:00,  1.32s/it, Loss 0.0701]\n",
      "Test Epoch 23: 100%|██████████| 54/54 [00:25<00:00,  2.10it/s, Test Loss 1.9527]\n",
      "Epoch 24: 100%|██████████| 213/213 [04:41<00:00,  1.32s/it, Loss 0.0629]\n",
      "Test Epoch 24: 100%|██████████| 54/54 [00:25<00:00,  2.10it/s, Test Loss 1.9777]\n",
      "Epoch 25: 100%|██████████| 213/213 [04:42<00:00,  1.32s/it, Loss 0.0573]\n",
      "Test Epoch 25: 100%|██████████| 54/54 [00:25<00:00,  2.10it/s, Test Loss 2.0180]\n",
      "Epoch 26: 100%|██████████| 213/213 [04:42<00:00,  1.32s/it, Loss 0.0512]\n",
      "Test Epoch 26: 100%|██████████| 54/54 [00:25<00:00,  2.10it/s, Test Loss 2.0416]\n",
      "Epoch 27: 100%|██████████| 213/213 [04:42<00:00,  1.33s/it, Loss 0.0483]\n",
      "Test Epoch 27: 100%|██████████| 54/54 [00:25<00:00,  2.10it/s, Test Loss 2.0652]\n",
      "Epoch 28: 100%|██████████| 213/213 [04:42<00:00,  1.33s/it, Loss 0.0465]\n",
      "Test Epoch 28: 100%|██████████| 54/54 [00:25<00:00,  2.10it/s, Test Loss 2.0839]\n",
      "Epoch 29: 100%|██████████| 213/213 [04:42<00:00,  1.33s/it, Loss 0.0449]\n",
      "Test Epoch 29: 100%|██████████| 54/54 [00:25<00:00,  2.10it/s, Test Loss 2.1107]\n",
      "Epoch 30: 100%|██████████| 213/213 [04:42<00:00,  1.32s/it, Loss 0.0437]\n",
      "Test Epoch 30: 100%|██████████| 54/54 [00:25<00:00,  2.10it/s, Test Loss 2.1280]\n",
      "Epoch 31: 100%|██████████| 213/213 [04:41<00:00,  1.32s/it, Loss 0.0423]\n",
      "Test Epoch 31: 100%|██████████| 54/54 [00:25<00:00,  2.10it/s, Test Loss 2.1500]\n",
      "Epoch 32: 100%|██████████| 213/213 [04:42<00:00,  1.33s/it, Loss 0.0413]\n",
      "Test Epoch 32: 100%|██████████| 54/54 [00:25<00:00,  2.11it/s, Test Loss 2.1753]\n",
      "Epoch 33: 100%|██████████| 213/213 [04:42<00:00,  1.32s/it, Loss 0.0415]\n",
      "Test Epoch 33: 100%|██████████| 54/54 [00:25<00:00,  2.11it/s, Test Loss 2.1913]\n",
      "Epoch 34: 100%|██████████| 213/213 [04:41<00:00,  1.32s/it, Loss 0.0405]\n",
      "Test Epoch 34: 100%|██████████| 54/54 [00:25<00:00,  2.11it/s, Test Loss 2.2058]\n",
      "Epoch 35: 100%|██████████| 213/213 [04:42<00:00,  1.32s/it, Loss 0.0383]\n",
      "Test Epoch 35: 100%|██████████| 54/54 [00:25<00:00,  2.10it/s, Test Loss 2.2277]\n",
      "Epoch 36: 100%|██████████| 213/213 [04:42<00:00,  1.32s/it, Loss 0.0368]\n",
      "Test Epoch 36: 100%|██████████| 54/54 [00:25<00:00,  2.10it/s, Test Loss 2.2580]\n",
      "Epoch 37: 100%|██████████| 213/213 [04:41<00:00,  1.32s/it, Loss 0.0348]\n",
      "Test Epoch 37: 100%|██████████| 54/54 [00:25<00:00,  2.10it/s, Test Loss 2.2621]\n",
      "Epoch 38: 100%|██████████| 213/213 [04:42<00:00,  1.32s/it, Loss 0.0327]\n",
      "Test Epoch 38: 100%|██████████| 54/54 [00:25<00:00,  2.10it/s, Test Loss 2.2927]\n",
      "Epoch 39: 100%|██████████| 213/213 [04:41<00:00,  1.32s/it, Loss 0.0320]\n",
      "Test Epoch 39: 100%|██████████| 54/54 [00:25<00:00,  2.10it/s, Test Loss 2.2930]\n",
      "Epoch 40: 100%|██████████| 213/213 [04:42<00:00,  1.33s/it, Loss 0.0319]\n",
      "Test Epoch 40: 100%|██████████| 54/54 [00:25<00:00,  2.10it/s, Test Loss 2.3014]\n",
      "Epoch 41: 100%|██████████| 213/213 [04:49<00:00,  1.36s/it, Loss 0.0316]\n",
      "Test Epoch 41: 100%|██████████| 54/54 [00:26<00:00,  2.05it/s, Test Loss 2.3260]\n",
      "Epoch 42: 100%|██████████| 213/213 [04:50<00:00,  1.36s/it, Loss 0.0319]\n",
      "Test Epoch 42: 100%|██████████| 54/54 [00:26<00:00,  2.05it/s, Test Loss 2.3408]\n",
      "Epoch 43: 100%|██████████| 213/213 [04:50<00:00,  1.36s/it, Loss 0.0317]\n",
      "Test Epoch 43: 100%|██████████| 54/54 [00:26<00:00,  2.06it/s, Test Loss 2.3538]\n",
      "Epoch 44: 100%|██████████| 213/213 [04:50<00:00,  1.36s/it, Loss 0.0314]\n",
      "Test Epoch 44: 100%|██████████| 54/54 [00:26<00:00,  2.07it/s, Test Loss 2.3696]\n",
      "Epoch 45: 100%|██████████| 213/213 [04:42<00:00,  1.32s/it, Loss 0.0299]\n",
      "Test Epoch 45: 100%|██████████| 54/54 [00:25<00:00,  2.11it/s, Test Loss 2.3929]\n",
      "Epoch 46: 100%|██████████| 213/213 [04:41<00:00,  1.32s/it, Loss 0.0290]\n",
      "Test Epoch 46: 100%|██████████| 54/54 [00:25<00:00,  2.11it/s, Test Loss 2.3883]\n",
      "Epoch 47: 100%|██████████| 213/213 [04:41<00:00,  1.32s/it, Loss 0.0277]\n",
      "Test Epoch 47: 100%|██████████| 54/54 [00:25<00:00,  2.10it/s, Test Loss 2.4109]\n",
      "Epoch 48: 100%|██████████| 213/213 [04:41<00:00,  1.32s/it, Loss 0.0280]\n",
      "Test Epoch 48: 100%|██████████| 54/54 [00:25<00:00,  2.10it/s, Test Loss 2.4198]\n",
      "Epoch 49: 100%|██████████| 213/213 [04:41<00:00,  1.32s/it, Loss 0.0274]\n",
      "Test Epoch 49: 100%|██████████| 54/54 [00:25<00:00,  2.10it/s, Test Loss 2.4241]\n",
      "Epoch 50: 100%|██████████| 213/213 [04:41<00:00,  1.32s/it, Loss 0.0270]\n",
      "Test Epoch 50: 100%|██████████| 54/54 [00:25<00:00,  2.10it/s, Test Loss 2.4549]\n"
     ]
    }
   ],
   "source": [
    "# Training Process\n",
    "from tqdm import tqdm\n",
    "\n",
    "EPOCHS = 50\n",
    "\n",
    "for epoch in range(EPOCHS):\n",
    "    total_loss = 0\n",
    "\n",
    "    idx_list = list(range(0, enc_train.shape[0], BATCH_SIZE))\n",
    "    random.shuffle(idx_list)\n",
    "    t = tqdm(idx_list)\n",
    "\n",
    "    for (batch, idx) in enumerate(t):\n",
    "        batch_loss = train_step(enc_train[idx:idx+BATCH_SIZE],\n",
    "                                dec_train[idx:idx+BATCH_SIZE],\n",
    "                                encoder,\n",
    "                                decoder,\n",
    "                                optimizer,\n",
    "                                dec_tokenizer)\n",
    "\n",
    "        total_loss += batch_loss\n",
    "\n",
    "        t.set_description_str('Epoch %2d' % (epoch + 1))\n",
    "        t.set_postfix_str('Loss %.4f' % (total_loss.numpy() / (batch + 1)))\n",
    "\n",
    "    test_loss = 0\n",
    "\n",
    "    idx_list = list(range(0, enc_val.shape[0], BATCH_SIZE))\n",
    "    random.shuffle(idx_list)\n",
    "    t = tqdm(idx_list)\n",
    "\n",
    "    for (test_batch, idx) in enumerate(t):\n",
    "        test_batch_loss = eval_step(enc_val[idx:idx+BATCH_SIZE],\n",
    "                                    dec_val[idx:idx+BATCH_SIZE],\n",
    "                                    encoder,\n",
    "                                    decoder,\n",
    "                                    dec_tokenizer)\n",
    "\n",
    "        test_loss += test_batch_loss\n",
    "\n",
    "        t.set_description_str('Test Epoch %2d' % (epoch + 1))\n",
    "        t.set_postfix_str('Test Loss %.4f' % (test_loss.numpy() / (test_batch + 1)))"
   ]
  },
  {
   "cell_type": "code",
   "execution_count": 31,
   "id": "immediate-anime",
   "metadata": {},
   "outputs": [],
   "source": [
    "def evaluate(sentence, encoder, decoder):\n",
    "    attention = np.zeros((dec_train.shape[-1], enc_train.shape[-1]))\n",
    "    \n",
    "    sentence = preprocess_sentence(sentence)\n",
    "    inputs = enc_tokenizer.texts_to_sequences([sentence.split()])\n",
    "    inputs = tf.keras.preprocessing.sequence.pad_sequences(inputs,\n",
    "                                                           maxlen=enc_train.shape[-1],\n",
    "                                                           padding='post')\n",
    "\n",
    "    result = ''\n",
    "\n",
    "    enc_out = encoder(inputs)\n",
    "\n",
    "    dec_hidden = enc_out[:, -1]\n",
    "    dec_input = tf.expand_dims([dec_tokenizer.word_index['<start>']], 0)\n",
    "\n",
    "    for t in range(dec_train.shape[-1]):\n",
    "        predictions, dec_hidden, attention_weights = decoder(dec_input,\n",
    "                                                             dec_hidden,\n",
    "                                                             enc_out)\n",
    "\n",
    "        attention_weights = tf.reshape(attention_weights, (-1, ))\n",
    "        attention[t] = attention_weights.numpy()\n",
    "\n",
    "        predicted_id = \\\n",
    "        tf.argmax(tf.math.softmax(predictions, axis=-1)[0]).numpy()\n",
    "\n",
    "        result += dec_tokenizer.index_word[predicted_id] + ' '\n",
    "\n",
    "        if dec_tokenizer.index_word[predicted_id] == '<end>':\n",
    "            return result, sentence, attention\n",
    "\n",
    "        dec_input = tf.expand_dims([predicted_id], 0)\n",
    "\n",
    "    return result, sentence, attention\n",
    "\n",
    "\n",
    "def plot_attention(attention, sentence, predicted_sentence):\n",
    "    fig = plt.figure(figsize=(10,10))\n",
    "    ax = fig.add_subplot(1, 1, 1)\n",
    "    ax.matshow(attention, cmap='viridis')\n",
    "\n",
    "    fontdict = {'fontsize': 14}\n",
    "\n",
    "    ax.set_xticklabels([''] + sentence, fontdict=fontdict, rotation=90)\n",
    "    ax.set_yticklabels([''] + predicted_sentence, fontdict=fontdict)\n",
    "\n",
    "    ax.xaxis.set_major_locator(ticker.MultipleLocator(1))\n",
    "    ax.yaxis.set_major_locator(ticker.MultipleLocator(1))\n",
    "\n",
    "    plt.show()\n",
    "\n",
    "\n",
    "def translate(sentence, encoder, decoder):\n",
    "    result, sentence, attention = evaluate(sentence, encoder, decoder)\n",
    "\n",
    "    print('Input: %s' % (sentence))\n",
    "    print('Predicted translation: {}'.format(result))\n",
    "    \n",
    "    attention = attention[:len(result.split()), :len(sentence.split())]\n",
    "    plot_attention(attention, sentence.split(), result.split(' '))"
   ]
  },
  {
   "cell_type": "code",
   "execution_count": 32,
   "id": "geological-diving",
   "metadata": {},
   "outputs": [],
   "source": [
    "import matplotlib.font_manager as fm\n",
    "import matplotlib as mpl\n",
    "\n",
    "fontpath = '/usr/share/fonts/truetype/nanum/NanumBarunGothic.ttf'\n",
    "font = fm.FontProperties(fname=fontpath, size=9)\n",
    "plt.rc('font', family='NanumBarunGothic')\n",
    "mpl.font_manager._rebuild()"
   ]
  },
  {
   "cell_type": "code",
   "execution_count": 33,
   "id": "determined-attack",
   "metadata": {},
   "outputs": [
    {
     "name": "stdout",
     "output_type": "stream",
     "text": [
      "Input: 이쪽은 내고향이야 .\n",
      "Predicted translation: . the orphanage juan antonio bayona <end> \n"
     ]
    },
    {
     "name": "stderr",
     "output_type": "stream",
     "text": [
      "/opt/conda/lib/python3.7/site-packages/ipykernel_launcher.py:45: UserWarning: FixedFormatter should only be used together with FixedLocator\n",
      "/opt/conda/lib/python3.7/site-packages/ipykernel_launcher.py:46: UserWarning: FixedFormatter should only be used together with FixedLocator\n"
     ]
    },
    {
     "data": {
      "image/png": "[encoded data removed]",
      "text/plain": [
       "<Figure size 720x720 with 1 Axes>"
      ]
     },
     "metadata": {
      "needs_background": "light"
     },
     "output_type": "display_data"
    }
   ],
   "source": [
    "# 예시\n",
    "translate(\"이쪽은 내고향이야.\", encoder, decoder)"
   ]
  },
  {
   "cell_type": "code",
   "execution_count": 34,
   "id": "established-polyester",
   "metadata": {},
   "outputs": [
    {
     "name": "stdout",
     "output_type": "stream",
     "text": [
      "Input: 연어는 물고기다 .\n",
      "Predicted translation: . the orphanage juan antonio bayona <end> \n"
     ]
    },
    {
     "name": "stderr",
     "output_type": "stream",
     "text": [
      "/opt/conda/lib/python3.7/site-packages/ipykernel_launcher.py:45: UserWarning: FixedFormatter should only be used together with FixedLocator\n",
      "/opt/conda/lib/python3.7/site-packages/ipykernel_launcher.py:46: UserWarning: FixedFormatter should only be used together with FixedLocator\n"
     ]
    },
    {
     "data": {
      "image/png": "[encoded data removed]",
      "text/plain": [
       "<Figure size 720x720 with 1 Axes>"
      ]
     },
     "metadata": {
      "needs_background": "light"
     },
     "output_type": "display_data"
    }
   ],
   "source": [
    "# 예시\n",
    "translate(\"연어는 물고기다.\", encoder, decoder)"
   ]
  },
  {
   "cell_type": "code",
   "execution_count": 35,
   "id": "distributed-sunday",
   "metadata": {},
   "outputs": [
    {
     "name": "stdout",
     "output_type": "stream",
     "text": [
      "Input: 오늘은 코로나 확진자 수가 명이 넘었다 .\n",
      "Predicted translation: it was more than half blood . <end> \n"
     ]
    },
    {
     "name": "stderr",
     "output_type": "stream",
     "text": [
      "/opt/conda/lib/python3.7/site-packages/ipykernel_launcher.py:45: UserWarning: FixedFormatter should only be used together with FixedLocator\n",
      "/opt/conda/lib/python3.7/site-packages/ipykernel_launcher.py:46: UserWarning: FixedFormatter should only be used together with FixedLocator\n"
     ]
    },
    {
     "data": {
      "image/png": "[encoded data removed]",
      "text/plain": [
       "<Figure size 720x720 with 1 Axes>"
      ]
     },
     "metadata": {
      "needs_background": "light"
     },
     "output_type": "display_data"
    }
   ],
   "source": [
    "# 예시\n",
    "translate(\"오늘은 코로나 확진자 수가 1000명이 넘었다.\", encoder, decoder)"
   ]
  },
  {
   "cell_type": "code",
   "execution_count": 36,
   "id": "virgin-cathedral",
   "metadata": {},
   "outputs": [
    {
     "name": "stdout",
     "output_type": "stream",
     "text": [
      "Input: 오늘밤은 달이 밝은 날이다 .\n",
      "Predicted translation: this it can see this . <end> \n"
     ]
    },
    {
     "name": "stderr",
     "output_type": "stream",
     "text": [
      "/opt/conda/lib/python3.7/site-packages/ipykernel_launcher.py:45: UserWarning: FixedFormatter should only be used together with FixedLocator\n",
      "/opt/conda/lib/python3.7/site-packages/ipykernel_launcher.py:46: UserWarning: FixedFormatter should only be used together with FixedLocator\n"
     ]
    },
    {
     "data": {
      "image/png": "[encoded data removed]",
      "text/plain": [
       "<Figure size 720x720 with 1 Axes>"
      ]
     },
     "metadata": {
      "needs_background": "light"
     },
     "output_type": "display_data"
    }
   ],
   "source": [
    "# 예시\n",
    "translate(\"오늘밤은 달이 밝은 날이다.\", encoder, decoder)"
   ]
  },
  {
   "cell_type": "markdown",
   "id": "fatal-consolidation",
   "metadata": {},
   "source": [
    "## 프로젝트 정리\n",
    "- 데이터셋 자체가 가진 문제점을 발견하여 수정하였음. 단순한 중복 케이스도 있지만, 한국어 문장이 있어야 할 자리에 타켓 영어문장의 일부분이 쓰여있는 것을 발견하였다. 이러한 중복도 제거를 하였음. \n",
    "- 모델구조의 전반적인 흐름을 이해할 수 있었고, mecab을 이용한 토큰화하는 부분도 추가 공부할 수 있는 기회가 되었다.\n",
    "- voca size나 embedding_dim등을 수정해보았고, 전반적으로 원하는 성과보다는 잘 나오지 못하였다. "
   ]
  }
 ],
 "metadata": {
  "kernelspec": {
   "display_name": "Python 3",
   "language": "python",
   "name": "python3"
  },
  "language_info": {
   "codemirror_mode": {
    "name": "ipython",
    "version": 3
   },
   "file_extension": ".py",
   "mimetype": "text/x-python",
   "name": "python",
   "nbconvert_exporter": "python",
   "pygments_lexer": "ipython3",
   "version": "3.7.9"
  }
 },
 "nbformat": 4,
 "nbformat_minor": 5
}
