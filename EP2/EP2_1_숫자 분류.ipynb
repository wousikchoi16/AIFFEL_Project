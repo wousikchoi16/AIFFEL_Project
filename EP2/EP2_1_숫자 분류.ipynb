{
 "cells": [
  {
   "cell_type": "markdown",
   "id": "accepting-rebecca",
   "metadata": {},
   "source": [
    "# EP2_1: 숫자 분류\n",
    "* 숫자 0 ~ 숫자9까지 10개 클래스를 분류하는 문제임. \n",
    "* 8x8 이미지(64개 픽셀값)를 가진 총 1797개 데이터를 이용."
   ]
  },
  {
   "cell_type": "markdown",
   "id": "discrete-flexibility",
   "metadata": {},
   "source": [
    "## 1. 데이터 준비 및 확인"
   ]
  },
  {
   "cell_type": "code",
   "execution_count": 1,
   "id": "statistical-dividend",
   "metadata": {},
   "outputs": [],
   "source": [
    "# (1) 필요한 모듈 import하기\n",
    "from sklearn.datasets import load_digits\n",
    "from sklearn.model_selection import train_test_split\n",
    "from sklearn.metrics import classification_report\n",
    "from sklearn.metrics import confusion_matrix"
   ]
  },
  {
   "cell_type": "code",
   "execution_count": 2,
   "id": "seasonal-headset",
   "metadata": {},
   "outputs": [],
   "source": [
    "# (2) 데이터 준비\n",
    "digits = load_digits()"
   ]
  },
  {
   "cell_type": "code",
   "execution_count": 3,
   "id": "scheduled-project",
   "metadata": {},
   "outputs": [
    {
     "data": {
      "text/plain": [
       "dict_keys(['data', 'target', 'frame', 'feature_names', 'target_names', 'images', 'DESCR'])"
      ]
     },
     "execution_count": 3,
     "metadata": {},
     "output_type": "execute_result"
    }
   ],
   "source": [
    "digits.keys()"
   ]
  },
  {
   "cell_type": "code",
   "execution_count": 4,
   "id": "chief-bosnia",
   "metadata": {},
   "outputs": [
    {
     "name": "stdout",
     "output_type": "stream",
     "text": [
      "<Target Names>\n",
      "[0 1 2 3 4 5 6 7 8 9]\n",
      "<DESCR>\n",
      ".. _digits_dataset:\n",
      "\n",
      "Optical recognition of handwritten digits dataset\n",
      "--------------------------------------------------\n",
      "\n",
      "**Data Set Characteristics:**\n",
      "\n",
      "    :Number of Instances: 5620\n",
      "    :Number of Attributes: 64\n",
      "    :Attribute Information: 8x8 image of integer pixels in the range 0..16.\n",
      "    :Missing Attribute Values: None\n",
      "    :Creator: E. Alpaydin (alpaydin '@' boun.edu.tr)\n",
      "    :Date: July; 1998\n",
      "\n",
      "This is a copy of the test set of the UCI ML hand-written digits datasets\n",
      "https://archive.ics.uci.edu/ml/datasets/Optical+Recognition+of+Handwritten+Digits\n",
      "\n",
      "The data set contains images of hand-written digits: 10 classes where\n",
      "each class refers to a digit.\n",
      "\n",
      "Preprocessing programs made available by NIST were used to extract\n",
      "normalized bitmaps of handwritten digits from a preprinted form. From a\n",
      "total of 43 people, 30 contributed to the training set and different 13\n",
      "to the test set. 32x32 bitmaps are divided into nonoverlapping blocks of\n",
      "4x4 and the number of on pixels are counted in each block. This generates\n",
      "an input matrix of 8x8 where each element is an integer in the range\n",
      "0..16. This reduces dimensionality and gives invariance to small\n",
      "distortions.\n",
      "\n",
      "For info on NIST preprocessing routines, see M. D. Garris, J. L. Blue, G.\n",
      "T. Candela, D. L. Dimmick, J. Geist, P. J. Grother, S. A. Janet, and C.\n",
      "L. Wilson, NIST Form-Based Handprint Recognition System, NISTIR 5469,\n",
      "1994.\n",
      "\n",
      ".. topic:: References\n",
      "\n",
      "  - C. Kaynak (1995) Methods of Combining Multiple Classifiers and Their\n",
      "    Applications to Handwritten Digit Recognition, MSc Thesis, Institute of\n",
      "    Graduate Studies in Science and Engineering, Bogazici University.\n",
      "  - E. Alpaydin, C. Kaynak (1998) Cascading Classifiers, Kybernetika.\n",
      "  - Ken Tang and Ponnuthurai N. Suganthan and Xi Yao and A. Kai Qin.\n",
      "    Linear dimensionalityreduction using relevance weighted LDA. School of\n",
      "    Electrical and Electronic Engineering Nanyang Technological University.\n",
      "    2005.\n",
      "  - Claudio Gentile. A New Approximate Maximal Margin Classification\n",
      "    Algorithm. NIPS. 2000.\n"
     ]
    }
   ],
   "source": [
    "# (3) 데이터 이해하기\n",
    "# Feature Data 지정하기\n",
    "digits_data = digits.data\n",
    "# Label Data 지정하기\n",
    "digits_label = digits.target\n",
    "# Target Names 출력해 보기\n",
    "print(\"<Target Names>\")\n",
    "print(digits.target_names)\n",
    "# 데이터 Describe 해 보기\n",
    "print(\"<DESCR>\")\n",
    "print(digits.DESCR)"
   ]
  },
  {
   "cell_type": "markdown",
   "id": "cloudy-lloyd",
   "metadata": {},
   "source": [
    "## 2. train, test 데이터 나누기"
   ]
  },
  {
   "cell_type": "code",
   "execution_count": 5,
   "id": "lyric-variance",
   "metadata": {},
   "outputs": [
    {
     "name": "stdout",
     "output_type": "stream",
     "text": [
      "X_train 개수: 1437 , X_test 개수: 360\n",
      "(1437, 64) (1437,)\n",
      "(360, 64) (360,)\n"
     ]
    }
   ],
   "source": [
    "# (4) train, test 데이터 분리\n",
    "X_train, X_test, y_train, y_test = train_test_split(digits_data, digits_label, test_size=0.2, random_state=7, stratify=digits_label)\n",
    "\n",
    "print('X_train 개수:', len(X_train), ', X_test 개수:', len(X_test))\n",
    "print(X_train.shape, y_train.shape)\n",
    "print(X_test.shape, y_test.shape)"
   ]
  },
  {
   "cell_type": "markdown",
   "id": "changed-trail",
   "metadata": {},
   "source": [
    "## 3. 모델 학습 및 평가"
   ]
  },
  {
   "cell_type": "code",
   "execution_count": 6,
   "id": "minor-malta",
   "metadata": {
    "scrolled": false
   },
   "outputs": [
    {
     "name": "stdout",
     "output_type": "stream",
     "text": [
      "Decision Tree: \n",
      "               precision    recall  f1-score   support\n",
      "\n",
      "           0       0.94      0.92      0.93        36\n",
      "           1       0.88      0.81      0.85        37\n",
      "           2       0.97      0.89      0.93        35\n",
      "           3       0.86      0.81      0.83        37\n",
      "           4       0.74      0.89      0.81        36\n",
      "           5       0.89      0.86      0.87        36\n",
      "           6       1.00      0.89      0.94        36\n",
      "           7       0.90      0.97      0.93        36\n",
      "           8       0.77      0.77      0.77        35\n",
      "           9       0.78      0.86      0.82        36\n",
      "\n",
      "    accuracy                           0.87       360\n",
      "   macro avg       0.87      0.87      0.87       360\n",
      "weighted avg       0.87      0.87      0.87       360\n",
      "\n",
      "[[33  0  0  0  2  0  0  0  1  0]\n",
      " [ 0 30  0  0  1  1  0  0  1  4]\n",
      " [ 0  0 31  1  0  0  0  0  3  0]\n",
      " [ 0  0  0 30  1  0  0  2  2  2]\n",
      " [ 1  1  0  0 32  0  0  0  1  1]\n",
      " [ 0  1  0  1  1 31  0  1  0  1]\n",
      " [ 0  0  0  0  4  0 32  0  0  0]\n",
      " [ 0  0  0  0  1  0  0 35  0  0]\n",
      " [ 1  2  1  1  0  2  0  0 27  1]\n",
      " [ 0  0  0  2  1  1  0  1  0 31]]\n",
      "Random Forest: \n",
      "               precision    recall  f1-score   support\n",
      "\n",
      "           0       1.00      0.97      0.99        36\n",
      "           1       0.97      1.00      0.99        37\n",
      "           2       1.00      1.00      1.00        35\n",
      "           3       0.97      0.97      0.97        37\n",
      "           4       0.95      1.00      0.97        36\n",
      "           5       0.92      0.94      0.93        36\n",
      "           6       1.00      1.00      1.00        36\n",
      "           7       1.00      1.00      1.00        36\n",
      "           8       1.00      0.94      0.97        35\n",
      "           9       1.00      0.97      0.99        36\n",
      "\n",
      "    accuracy                           0.98       360\n",
      "   macro avg       0.98      0.98      0.98       360\n",
      "weighted avg       0.98      0.98      0.98       360\n",
      "\n",
      "[[35  0  0  0  1  0  0  0  0  0]\n",
      " [ 0 37  0  0  0  0  0  0  0  0]\n",
      " [ 0  0 35  0  0  0  0  0  0  0]\n",
      " [ 0  0  0 36  0  1  0  0  0  0]\n",
      " [ 0  0  0  0 36  0  0  0  0  0]\n",
      " [ 0  0  0  1  1 34  0  0  0  0]\n",
      " [ 0  0  0  0  0  0 36  0  0  0]\n",
      " [ 0  0  0  0  0  0  0 36  0  0]\n",
      " [ 0  1  0  0  0  1  0  0 33  0]\n",
      " [ 0  0  0  0  0  1  0  0  0 35]]\n",
      "SVM          : \n",
      "               precision    recall  f1-score   support\n",
      "\n",
      "           0       1.00      1.00      1.00        36\n",
      "           1       0.97      1.00      0.99        37\n",
      "           2       1.00      1.00      1.00        35\n",
      "           3       1.00      1.00      1.00        37\n",
      "           4       1.00      1.00      1.00        36\n",
      "           5       0.97      0.97      0.97        36\n",
      "           6       1.00      0.97      0.99        36\n",
      "           7       1.00      1.00      1.00        36\n",
      "           8       0.97      1.00      0.99        35\n",
      "           9       0.97      0.94      0.96        36\n",
      "\n",
      "    accuracy                           0.99       360\n",
      "   macro avg       0.99      0.99      0.99       360\n",
      "weighted avg       0.99      0.99      0.99       360\n",
      "\n",
      "[[36  0  0  0  0  0  0  0  0  0]\n",
      " [ 0 37  0  0  0  0  0  0  0  0]\n",
      " [ 0  0 35  0  0  0  0  0  0  0]\n",
      " [ 0  0  0 37  0  0  0  0  0  0]\n",
      " [ 0  0  0  0 36  0  0  0  0  0]\n",
      " [ 0  0  0  0  0 35  0  0  0  1]\n",
      " [ 0  1  0  0  0  0 35  0  0  0]\n",
      " [ 0  0  0  0  0  0  0 36  0  0]\n",
      " [ 0  0  0  0  0  0  0  0 35  0]\n",
      " [ 0  0  0  0  0  1  0  0  1 34]]\n",
      "SGD Classifier:\n",
      "               precision    recall  f1-score   support\n",
      "\n",
      "           0       1.00      1.00      1.00        36\n",
      "           1       1.00      0.95      0.97        37\n",
      "           2       1.00      0.97      0.99        35\n",
      "           3       0.90      1.00      0.95        37\n",
      "           4       1.00      0.97      0.99        36\n",
      "           5       1.00      0.89      0.94        36\n",
      "           6       1.00      1.00      1.00        36\n",
      "           7       0.97      1.00      0.99        36\n",
      "           8       0.85      1.00      0.92        35\n",
      "           9       1.00      0.92      0.96        36\n",
      "\n",
      "    accuracy                           0.97       360\n",
      "   macro avg       0.97      0.97      0.97       360\n",
      "weighted avg       0.97      0.97      0.97       360\n",
      "\n",
      "[[36  0  0  0  0  0  0  0  0  0]\n",
      " [ 0 35  0  1  0  0  0  0  1  0]\n",
      " [ 0  0 34  0  0  0  0  0  1  0]\n",
      " [ 0  0  0 37  0  0  0  0  0  0]\n",
      " [ 0  0  0  0 35  0  0  0  1  0]\n",
      " [ 0  0  0  2  0 32  0  1  1  0]\n",
      " [ 0  0  0  0  0  0 36  0  0  0]\n",
      " [ 0  0  0  0  0  0  0 36  0  0]\n",
      " [ 0  0  0  0  0  0  0  0 35  0]\n",
      " [ 0  0  0  1  0  0  0  0  2 33]]\n",
      "Logistic Reg.: \n",
      "               precision    recall  f1-score   support\n",
      "\n",
      "           0       0.97      1.00      0.99        36\n",
      "           1       0.97      0.95      0.96        37\n",
      "           2       0.97      0.97      0.97        35\n",
      "           3       0.92      0.97      0.95        37\n",
      "           4       1.00      0.97      0.99        36\n",
      "           5       0.94      0.94      0.94        36\n",
      "           6       1.00      0.97      0.99        36\n",
      "           7       0.97      1.00      0.99        36\n",
      "           8       0.97      0.94      0.96        35\n",
      "           9       0.92      0.92      0.92        36\n",
      "\n",
      "    accuracy                           0.96       360\n",
      "   macro avg       0.96      0.96      0.96       360\n",
      "weighted avg       0.96      0.96      0.96       360\n",
      "\n",
      "[[36  0  0  0  0  0  0  0  0  0]\n",
      " [ 0 35  1  1  0  0  0  0  0  0]\n",
      " [ 0  0 34  1  0  0  0  0  0  0]\n",
      " [ 0  0  0 36  0  0  0  0  0  1]\n",
      " [ 1  0  0  0 35  0  0  0  0  0]\n",
      " [ 0  0  0  0  0 34  0  1  0  1]\n",
      " [ 0  1  0  0  0  0 35  0  0  0]\n",
      " [ 0  0  0  0  0  0  0 36  0  0]\n",
      " [ 0  0  0  0  0  1  0  0 33  1]\n",
      " [ 0  0  0  1  0  1  0  0  1 33]]\n"
     ]
    },
    {
     "name": "stderr",
     "output_type": "stream",
     "text": [
      "/opt/conda/lib/python3.7/site-packages/sklearn/linear_model/_logistic.py:762: ConvergenceWarning: lbfgs failed to converge (status=1):\n",
      "STOP: TOTAL NO. of ITERATIONS REACHED LIMIT.\n",
      "\n",
      "Increase the number of iterations (max_iter) or scale the data as shown in:\n",
      "    https://scikit-learn.org/stable/modules/preprocessing.html\n",
      "Please also refer to the documentation for alternative solver options:\n",
      "    https://scikit-learn.org/stable/modules/linear_model.html#logistic-regression\n",
      "  extra_warning_msg=_LOGISTIC_SOLVER_CONVERGENCE_MSG)\n"
     ]
    }
   ],
   "source": [
    "# (5) 다양한 모델로 학습시켜보기\n",
    "\n",
    "#  Decision Tree 사용해 보기\n",
    "from sklearn.tree import DecisionTreeClassifier\n",
    "decision_tree = DecisionTreeClassifier(random_state=32)\n",
    "decision_tree.fit(X_train, y_train)\n",
    "y_pred1 = decision_tree.predict(X_test)\n",
    "print(\"Decision Tree: \\n\", classification_report(y_test, y_pred1))\n",
    "print(confusion_matrix(y_test, y_pred1))\n",
    "\n",
    "#  Random Forest 사용해 보기\n",
    "from sklearn.ensemble import RandomForestClassifier\n",
    "random_forest = RandomForestClassifier(random_state=32)\n",
    "random_forest.fit(X_train, y_train)\n",
    "y_pred2 = random_forest.predict(X_test)\n",
    "print(\"Random Forest: \\n\", classification_report(y_test, y_pred2))\n",
    "print(confusion_matrix(y_test, y_pred2))\n",
    "\n",
    "#  SVM 사용해 보기\n",
    "from sklearn import svm\n",
    "svm_model = svm.SVC()\n",
    "svm_model.fit(X_train, y_train)\n",
    "y_pred3 = svm_model.predict(X_test)\n",
    "print(\"SVM          : \\n\", classification_report(y_test, y_pred3))\n",
    "print(confusion_matrix(y_test, y_pred3))\n",
    "\n",
    "#  SGD Classifier 사용해 보기\n",
    "from sklearn.linear_model import SGDClassifier\n",
    "sgd_model = SGDClassifier()\n",
    "sgd_model.fit(X_train, y_train)\n",
    "y_pred4 = sgd_model.predict(X_test)\n",
    "print(\"SGD Classifier:\\n\", classification_report(y_test, y_pred4))\n",
    "print(confusion_matrix(y_test, y_pred4))\n",
    "\n",
    "#  Logistic Regression 사용해 보기\n",
    "from sklearn.linear_model import LogisticRegression\n",
    "logistic_model = LogisticRegression()\n",
    "logistic_model.fit(X_train, y_train)\n",
    "y_pred5 = logistic_model.predict(X_test)\n",
    "print(\"Logistic Reg.: \\n\", classification_report(y_test, y_pred5))\n",
    "print(confusion_matrix(y_test, y_pred5))"
   ]
  },
  {
   "cell_type": "markdown",
   "id": "automatic-harvard",
   "metadata": {},
   "source": [
    "## 결과\n",
    "전반적으로 예측결과가 높게 나왔음. \n",
    "\n",
    "SVM모델이 가장 높은 정확도(0.99)를 가졌다고 판단함. "
   ]
  },
  {
   "cell_type": "markdown",
   "id": "missing-charity",
   "metadata": {},
   "source": [
    "#### 평가지표는 recall을 보는 것이 좋다고 생각함\n",
    "이유는 1) 전체 샘플의 분포에 영향을 덜 받고, 2) 각 라벨별로 정확한 라벨을 골랐는지를 알 수 있기 때문이다.(recall) 3) 컴퓨터가 예상한 라벨값중에서 맞고 틀린 것에 대한 지표(precision)가 중요한 것이 아님. "
   ]
  }
 ],
 "metadata": {
  "kernelspec": {
   "display_name": "Python 3",
   "language": "python",
   "name": "python3"
  },
  "language_info": {
   "codemirror_mode": {
    "name": "ipython",
    "version": 3
   },
   "file_extension": ".py",
   "mimetype": "text/x-python",
   "name": "python",
   "nbconvert_exporter": "python",
   "pygments_lexer": "ipython3",
   "version": "3.7.9"
  }
 },
 "nbformat": 4,
 "nbformat_minor": 5
}
