{
 "cells": [
  {
   "cell_type": "markdown",
   "id": "respiratory-adapter",
   "metadata": {},
   "source": [
    "## 연예인닮은 사진 찾기 "
   ]
  },
  {
   "cell_type": "code",
   "execution_count": null,
   "id": "abstract-syndrome",
   "metadata": {},
   "outputs": [],
   "source": [
    "import os\n",
    "import matplotlib.pyplot as plt\n",
    "import matplotlib.image as img\n",
    "import face_recognition\n",
    "import numpy as np\n",
    "from PIL import Image\n",
    "import pandas as pd"
   ]
  },
  {
   "cell_type": "markdown",
   "id": "perceived-orchestra",
   "metadata": {},
   "source": [
    "## 1. 사진 모으기\n",
    "내 사진과 연예인 사진을 모아 저장한다.\n",
    "## 2. 얼굴 영역 자르기\n",
    "이미지에서 얼굴 영역을 자른다.\n",
    "Image.fromarray를 통해서 PIL Image로 변환한 뒤 저장하여 나중에 시각화에 사용한다."
   ]
  },
  {
   "cell_type": "code",
   "execution_count": null,
   "id": "physical-wheat",
   "metadata": {},
   "outputs": [],
   "source": [
    "# 파일 목록만들기\n",
    "dir_path = os.getenv('HOME')+'/aiffel/lms_project_dataset/EP5'\n",
    "file_list = os.listdir(dir_path)\n",
    "#print (\"file_list: {}\".format(file_list))\n",
    "print(len(file_list))   # 이미지 파일 개수"
   ]
  },
  {
   "cell_type": "code",
   "execution_count": null,
   "id": "identified-funds",
   "metadata": {},
   "outputs": [],
   "source": [
    "# 이미지 파일에서 얼굴 영역을 가져오는 함수\n",
    "def get_gropped_face(image_file):\n",
    "    image = face_recognition.load_image_file(image_file)\n",
    "    face_locations = face_recognition.face_locations(image)\n",
    "    a, b, c, d = face_locations[0]\n",
    "    cropped_face = image[a:c,d:b,:]\n",
    "    return cropped_face"
   ]
  },
  {
   "cell_type": "code",
   "execution_count": null,
   "id": "intended-algorithm",
   "metadata": {},
   "outputs": [],
   "source": [
    "# 얼굴 영역을 잘라서 이미지로 저장하는 함수\n",
    "def save_cropped_face(dir_path):\n",
    "    file_list = os.listdir(dir_path)\n",
    "    for file in file_list:\n",
    "        img_path = os.path.join(dir_path, file)\n",
    "        #print(img_path)\n",
    "        face = get_gropped_face(img_path)\n",
    "        pillow_image = Image.fromarray(face)\n",
    "        path_to_save = os.path.join(save_path, file)\n",
    "        pillow_image.save(path_to_save)\n",
    "    print('Cropped images are saved')\n",
    "\n",
    "save_path = os.getenv('HOME')+'/aiffel/lms_project_dataset/EP5_images_cropped'\n",
    "save_cropped_face(dir_path)"
   ]
  },
  {
   "cell_type": "markdown",
   "id": "smaller-baghdad",
   "metadata": {},
   "source": [
    "## 3. 얼굴 영역의 임베딩 추출하기\n",
    "이미지의 얼굴 영역으로부터 얼굴 임베딩 벡터를 구한다.\n",
    "\n",
    "디렉토리 안에 있는 모든 얼굴 이미지의 임베딩 딕셔너리를 구한다."
   ]
  },
  {
   "cell_type": "code",
   "execution_count": null,
   "id": "skilled-valentine",
   "metadata": {},
   "outputs": [],
   "source": [
    "# 얼굴 영역으로부터 얼굴 임베딩 벡터를 구하는 함수\n",
    "def get_face_embedding(face):\n",
    "    return face_recognition.face_encodings(face)"
   ]
  },
  {
   "cell_type": "code",
   "execution_count": null,
   "id": "treated-recall",
   "metadata": {},
   "outputs": [],
   "source": [
    "# 디렉토리 안에 있는 모든 이미지의 임베딩 딕셔너리를 구하는 함수\n",
    "def get_face_embedding_dict(dir_path):\n",
    "    file_list = os.listdir(dir_path)\n",
    "    embedding_dict = {}\n",
    "    \n",
    "    for file in file_list:\n",
    "        img_path = os.path.join(dir_path, file)\n",
    "        face = get_gropped_face(img_path)      # 얼굴 영역을 구하는 함수\n",
    "        embedding = get_face_embedding(face)   # 얼굴 임베딩 벡터를 구하는 함수\n",
    "        if len(embedding) > 0:  # 얼굴영역 face가 제대로 detect되지 않으면 len(embedding)==0인 경우가 발생하므로 \n",
    "            # os.path.splitext(file)[0]에는 이미지파일명에서 확장자를 제거한 이름이 담깁니다. \n",
    "            embedding_dict[os.path.splitext(file)[0]] = embedding[0]\n",
    "    \n",
    "    print(\"Embedding dictionary was made\")\n",
    "    return embedding_dict\n",
    "\n",
    "# 내 사진의 임베딩 딕셔너리 출력\n",
    "embedding_dict = get_face_embedding_dict(dir_path)\n",
    "embedding_dict['최우식1']"
   ]
  },
  {
   "cell_type": "markdown",
   "id": "developmental-particular",
   "metadata": {},
   "source": [
    "## 4. 모은 연예인들과 비교하기\n",
    "이미지들 간의 임베딩 벡터 거리를 구한다.\n",
    "거리를 비교하여 나와 가장 가까운 연예인 순위를 출력한다"
   ]
  },
  {
   "cell_type": "code",
   "execution_count": null,
   "id": "excited-minister",
   "metadata": {},
   "outputs": [],
   "source": [
    "# 두 이미지 사이의 임베딩 벡터 거리를 구하는 함수\n",
    "def get_distance(name1, name2):\n",
    "    return np.linalg.norm(embedding_dict[name1]-embedding_dict[name2], ord=2)\n",
    "\n",
    "# 내 사진들끼리의 얼굴 임베딩 벡터 거리 계산\n",
    "print(get_distance('최우식1', '최우식2'))"
   ]
  },
  {
   "cell_type": "code",
   "execution_count": null,
   "id": "imported-crisis",
   "metadata": {},
   "outputs": [],
   "source": [
    "# name1과 name2의 거리를 비교하는 함수를 생성하되, name1은 미리 지정하고, name2는 호출시에 인자로 받도록 합니다.\n",
    "def get_sort_key_func(name1):\n",
    "    def get_distance_from_name1(name2):\n",
    "        return get_distance(name1, name2)\n",
    "    return get_distance_from_name1"
   ]
  },
  {
   "cell_type": "code",
   "execution_count": null,
   "id": "awful-thailand",
   "metadata": {},
   "outputs": [],
   "source": [
    "# 거리가 가장 가까운 순으로 출력해주는 함수\n",
    "def get_nearest_face(name, top=6):\n",
    "    sort_key_func = get_sort_key_func(name)\n",
    "    sorted_faces = sorted(embedding_dict.items(), key=lambda x:sort_key_func(x[0]))\n",
    "    rank, name, dist = [], [], []\n",
    "    idx = 1\n",
    "    for i in range(top+1):\n",
    "        if i == 0 :   # 첫 번째로 나오는 이름은 자기 자신이므로 제외\n",
    "            continue\n",
    "        elif sorted_faces[i][0].startswith('최우식'):   # 나의 다른 사진도 제외\n",
    "            continue\n",
    "        elif sorted_faces[i][0].startswith('최진형'):   # 나의 다른 사진도 제외\n",
    "            continue\n",
    "        elif sorted_faces[i][0].startswith('최서형'):   # 나의 다른 사진도 제외\n",
    "            continue\n",
    "        elif sorted_faces[i][0].startswith('최유형'):   # 나의 다른 사진도 제외\n",
    "            continue\n",
    "        else:\n",
    "            rank.append(idx)\n",
    "            name.append(sorted_faces[i][0])\n",
    "            dist.append(sort_key_func(sorted_faces[i][0]))\n",
    "            idx += 1\n",
    "    data = {'Rank': rank, 'Name': name, 'Distance': dist}\n",
    "    return pd.DataFrame(data)"
   ]
  },
  {
   "cell_type": "code",
   "execution_count": null,
   "id": "boring-salmon",
   "metadata": {},
   "outputs": [],
   "source": [
    "# 나와 가장 닮은 사람은 누굴까요?\n",
    "get_nearest_face('최우식1')"
   ]
  },
  {
   "cell_type": "markdown",
   "id": "rotary-sending",
   "metadata": {},
   "source": [
    "## 프로젝트정리\n",
    "- 디렉토리 올리고 사진 인식하는 기본적인 부분에서 막혀서 고생한 부분이 많았던것 같다 \n",
    "- 벡터로 사람의 거리를 측정한다는 부분을 이용하면, 이미지의 유사도를 이용해서 다른 물체간에도 사용할 수있을 것으로 생각한다. "
   ]
  }
 ],
 "metadata": {
  "kernelspec": {
   "display_name": "Python 3",
   "language": "python",
   "name": "python3"
  },
  "language_info": {
   "codemirror_mode": {
    "name": "ipython",
    "version": 3
   },
   "file_extension": ".py",
   "mimetype": "text/x-python",
   "name": "python",
   "nbconvert_exporter": "python",
   "pygments_lexer": "ipython3",
   "version": "3.7.9"
  }
 },
 "nbformat": 4,
 "nbformat_minor": 5
}
